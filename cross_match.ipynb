{
 "cells": [
  {
   "cell_type": "code",
   "execution_count": 1,
   "id": "5d0f13e8-1406-44a3-a731-d5f597fd083a",
   "metadata": {},
   "outputs": [],
   "source": [
    "from astropy.io import ascii\n",
    "from astropy.table import Table\n",
    "from astropy.io import fits"
   ]
  },
  {
   "cell_type": "code",
   "execution_count": 2,
   "id": "845b2137-8996-4f3a-9d4e-29aedc4d239c",
   "metadata": {
    "tags": []
   },
   "outputs": [],
   "source": [
    "#reading data file:\n",
    "data_candels=ascii.read('~/TFM/observations/hlsp_candels_hst_wfc3_goodss_multi_v2_redshift-cat.txt') "
   ]
  },
  {
   "cell_type": "code",
   "execution_count": 3,
   "id": "aa6deba9-2617-4ecf-801a-7acaf8e38744",
   "metadata": {
    "tags": []
   },
   "outputs": [],
   "source": [
    "num=[]\n",
    "z=[]\n",
    "ra=[]\n",
    "dec=[]\n",
    "\n",
    "#selecting galaxies with a redshift>1:\n",
    "for i in range(len(data_candels)):\n",
    "    if data_candels['z_best'][i]>1:\n",
    "        num.append(data_candels['ID'][i])\n",
    "        z.append(data_candels['z_best'][i])\n",
    "        ra.append(data_candels['RA'][i])\n",
    "        dec.append(data_candels['DEC'][i])\n",
    "\n",
    "#creating a new table with the relevant information:        \n",
    "table_candels=Table()\n",
    "table_candels['ID']=num\n",
    "table_candels['RA']=ra\n",
    "table_candels['DEC']=dec\n",
    "table_candels['z']=z"
   ]
  },
  {
   "cell_type": "code",
   "execution_count": null,
   "id": "ba8b2cd9-3503-442c-985e-fa0d193fe822",
   "metadata": {
    "tags": []
   },
   "outputs": [],
   "source": [
    "#loading JADES data:\n",
    "#data_jades=fits.util.get_testdata_filepath('~/Downloads/hlsp_jades_jwst_nircam_goods-s-deep_photometry_v2.0_catalog.fits')\n",
    "#hdul = fits.open(data_jades)\n",
    "data_jades=ascii.read('~/TFM/observations/JWST_2023-11-06T1659.csv') "
   ]
  },
  {
   "cell_type": "code",
   "execution_count": null,
   "id": "43e152a8-c425-499f-87bd-b349c7f19352",
   "metadata": {
    "tags": []
   },
   "outputs": [],
   "source": [
    "#creating a new table with the relevant columns:        \n",
    "table_jades=Table()\n",
    "table_jades['ID']=data_jades['ArchiveFileID']\n",
    "table_jades['RA']=data_jades['targ_ra']\n",
    "table_jades['DEC']=data_jades['targ_dec']"
   ]
  },
  {
   "cell_type": "code",
   "execution_count": null,
   "id": "9130dde7-5cb0-4c19-9a70-00999e14f327",
   "metadata": {
    "tags": []
   },
   "outputs": [],
   "source": [
    "num=[]\n",
    "ra=[]\n",
    "dec=[]\n",
    "\n",
    "num.append(data_jades['ArchiveFileID'][0])\n",
    "ra.append(data_jades['targ_ra'][0])\n",
    "dec.append(data_jades['targ_dec'][0])\n",
    "        \n",
    "for j in range(len(data_jades)-1):\n",
    "    if data_jades['targ_ra'][j+1]!=data_jades['targ_ra'][j]:\n",
    "        num.append(data_jades['ArchiveFileID'][j+1])\n",
    "        ra.append(data_jades['targ_ra'][j+1])\n",
    "        dec.append(data_jades['targ_dec'][j+1])\n",
    "        \n",
    "table_jades=Table()\n",
    "table_jades['ID']=num\n",
    "table_jades['RA']=ra\n",
    "table_jades['DEC']=dec"
   ]
  },
  {
   "cell_type": "code",
   "execution_count": null,
   "id": "57aa69e4-6fe8-4f30-b674-b586327042fb",
   "metadata": {
    "jupyter": {
     "source_hidden": true
    },
    "tags": []
   },
   "outputs": [],
   "source": [
    "for i in range(len(table_candels)):\n",
    "    if (round(table_candels['DEC'][i],3)==-27.796) & (round(table_candels['RA'][i],3)==53.169):\n",
    "        print(i,z[i])"
   ]
  },
  {
   "cell_type": "code",
   "execution_count": null,
   "id": "2b2b774e-fa0e-422d-83bf-1c68564d29b3",
   "metadata": {
    "tags": []
   },
   "outputs": [],
   "source": [
    "table_jades"
   ]
  },
  {
   "cell_type": "code",
   "execution_count": null,
   "id": "2bb01b05-d5f3-4559-af9c-ccca524f00be",
   "metadata": {},
   "outputs": [],
   "source": []
  }
 ],
 "metadata": {
  "kernelspec": {
   "display_name": "Python 3 (ipykernel)",
   "language": "python",
   "name": "python3"
  },
  "language_info": {
   "codemirror_mode": {
    "name": "ipython",
    "version": 3
   },
   "file_extension": ".py",
   "mimetype": "text/x-python",
   "name": "python",
   "nbconvert_exporter": "python",
   "pygments_lexer": "ipython3",
   "version": "3.11.5"
  }
 },
 "nbformat": 4,
 "nbformat_minor": 5
}
