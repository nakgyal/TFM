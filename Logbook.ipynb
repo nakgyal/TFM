{
 "cells": [
  {
   "cell_type": "markdown",
   "id": "8729824f-7cd9-40b7-961d-5457dc69019c",
   "metadata": {
    "tags": []
   },
   "source": [
    "# Week 1 (23-10-23 to 29-10-23)\n",
    "\n",
    "- Setting up python, conda (miniconda), git (+ packages)\n",
    "- Installing DS9, Zotero\n",
    "- Course on version control with git: https://swcarpentry.github.io/git-novice/index.html\n",
    "- Checking up JADES website: https://archive.stsci.edu/hlsp/jades#section-963ad401-54a7-4433-b308-9c9a70210272\n",
    "- Reading papers on JADES dataset (on Zotero under JADES_dataset) and looking for barred galaxies (on Zotero under barred_galaxies)"
   ]
  },
  {
   "cell_type": "markdown",
   "id": "1a64aec8-f069-455b-b99e-d70f5b3d1694",
   "metadata": {},
   "source": [
    "# Week 2 (30-10-23 to 05-11-23)\n",
    "\n",
    "- Reading papers on JADES dataset (on Zotero under JADES_dataset) and looking for barred galaxies (on Zotero under barred_galaxies)\n",
    "- Downloading CANDELS and JADES data on GOODS-S field\n",
    "  - Other fields?\n",
    "  - JADES photometry catalogue V2 DOESN'T WORK\n",
    "- Starting cross-match between Candels catalogue and JADES catalogue"
   ]
  },
  {
   "cell_type": "markdown",
   "id": "03652243-5e84-40c4-bb3a-245ed6e58ff4",
   "metadata": {},
   "source": [
    "# Week 3 (06-11-23 to 12-11-23)"
   ]
  },
  {
   "cell_type": "markdown",
   "id": "ea1a75d9-a887-412e-b953-b1afc431a68e",
   "metadata": {},
   "source": [
    "## Monday 6-11-23:\n",
    "\n",
    "- Continuing cross-match between Candels and JADES\n",
    "- Checking the coordinate systems used by both catalogues (do they match? I think so, FK5)\n",
    "- Using data from MAST Portal for JADES GOODS-S field\n",
    "- Uploading all files and folders to GitHub"
   ]
  }
 ],
 "metadata": {
  "kernelspec": {
   "display_name": "Python 3 (ipykernel)",
   "language": "python",
   "name": "python3"
  },
  "language_info": {
   "codemirror_mode": {
    "name": "ipython",
    "version": 3
   },
   "file_extension": ".py",
   "mimetype": "text/x-python",
   "name": "python",
   "nbconvert_exporter": "python",
   "pygments_lexer": "ipython3",
   "version": "3.11.5"
  }
 },
 "nbformat": 4,
 "nbformat_minor": 5
}
