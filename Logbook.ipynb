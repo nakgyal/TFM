{
 "cells": [
  {
   "cell_type": "markdown",
   "id": "8729824f-7cd9-40b7-961d-5457dc69019c",
   "metadata": {
    "tags": []
   },
   "source": [
    "# Week 1 (23-10-23 to 29-10-23)\n",
    "\n",
    "- Setting up python, conda (miniconda), git (+ packages)\n",
    "- Installing DS9, Zotero\n",
    "- Course on version control with git: https://swcarpentry.github.io/git-novice/index.html\n",
    "- Checking up JADES website: https://archive.stsci.edu/hlsp/jades#section-963ad401-54a7-4433-b308-9c9a70210272\n",
    "- Reading papers on JADES dataset (on Zotero under JADES_dataset) and looking for barred galaxies (on Zotero under barred_galaxies)"
   ]
  },
  {
   "cell_type": "markdown",
   "id": "1a64aec8-f069-455b-b99e-d70f5b3d1694",
   "metadata": {},
   "source": [
    "# Week 2 (30-10-23 to 05-11-23)\n",
    "\n",
    "- Reading papers on JADES dataset (on Zotero under JADES_dataset) and looking for barred galaxies (on Zotero under barred_galaxies)\n",
    "- Downloading CANDELS and JADES data on GOODS-S field\n",
    "  - Other fields?\n",
    "  - JADES photometry catalogue V2 DOESN'T WORK\n",
    "- Starting cross-match between Candels catalogue and JADES catalogue"
   ]
  },
  {
   "cell_type": "markdown",
   "id": "03652243-5e84-40c4-bb3a-245ed6e58ff4",
   "metadata": {},
   "source": [
    "# Week 3 (06-11-23 to 12-11-23)"
   ]
  },
  {
   "cell_type": "markdown",
   "id": "ea1a75d9-a887-412e-b953-b1afc431a68e",
   "metadata": {},
   "source": [
    "## Monday 6-11-23:\n",
    "\n",
    "- Continuing cross-match between Candels and JADES\n",
    "- Checking the coordinate systems used by both catalogues (do they match? JADES: ICRS, CANDELS:)\n",
    "- Using data from MAST Portal for JADES GOODS-S field\n",
    "- Uploading all files and folders to GitHub\n",
    "\n",
    "## Tuesday 7-11-23:\n",
    "\n",
    "- Meeting with Supervisors\n",
    "    - No need to cross-match between catalogues because JADES has information on redshifts (extension 9 of header). Will be using EAZY_z_a for redshift (photometric z at minimum chi-square value). More information on extensions: https://archive.stsci.edu/hlsps/jades/hlsp_jades_jwst_nircam_goods-s-deep_photometry_v2.0_catalog-ext-readme.pdf\n",
    "    - Extension 3 (size/half-light radius) may also be useful for future scripts.\n",
    "    - Tasks for the week:\n",
    "        - Histogram of galaxies with z>1\n",
    "        - Selection of galaxies in a smaller redshift interval (proposed interval: 3<z<4) for bar detection\n",
    "        - Representation of some of these galaxies in different filters\n",
    "        \n",
    "## Friday 8-11-23:\n",
    "- New document: barred_gal_detection.ipynb (cross_match.ipynb gets discarded).\n",
    "- Histograms on the galaxy sample for galaxies with z>1 (first hist) and 3<z<4 (second hist)\n",
    "- Representation of a galaxy in different filters"
   ]
  },
  {
   "cell_type": "code",
   "execution_count": null,
   "id": "e066ad9b-e404-4573-90a9-13917774bfa3",
   "metadata": {},
   "outputs": [],
   "source": []
  }
 ],
 "metadata": {
  "kernelspec": {
   "display_name": "Python 3 (ipykernel)",
   "language": "python",
   "name": "python3"
  },
  "language_info": {
   "codemirror_mode": {
    "name": "ipython",
    "version": 3
   },
   "file_extension": ".py",
   "mimetype": "text/x-python",
   "name": "python",
   "nbconvert_exporter": "python",
   "pygments_lexer": "ipython3",
   "version": "3.11.5"
  }
 },
 "nbformat": 4,
 "nbformat_minor": 5
}
