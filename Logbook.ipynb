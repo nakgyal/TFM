{
 "cells": [
  {
   "cell_type": "markdown",
   "id": "c3d501c2",
   "metadata": {
    "tags": []
   },
   "source": [
    "# Week 1 (23-10-23 to 29-10-23)\n",
    "\n",
    "- Setting up python, conda (miniconda), git (+ packages)\n",
    "- Installing DS9, Zotero\n",
    "- Course on version control with git: https://swcarpentry.github.io/git-novice/index.html\n",
    "- Checking up JADES website: https://archive.stsci.edu/hlsp/jades#section-963ad401-54a7-4433-b308-9c9a70210272\n",
    "- Reading papers on JADES dataset (on Zotero under JADES_dataset) and looking for barred galaxies (on Zotero under barred_galaxies)"
   ]
  },
  {
   "cell_type": "markdown",
   "id": "5a3d497e",
   "metadata": {},
   "source": [
    "# Week 2 (30-10-23 to 05-11-23)\n",
    "\n",
    "- Reading papers on JADES dataset (on Zotero under JADES_dataset) and looking for barred galaxies (on Zotero under barred_galaxies)\n",
    "- Downloading CANDELS and JADES data on GOODS-S field\n",
    "  - Other fields?\n",
    "  - JADES photometry catalogue V2 DOESN'T WORK\n",
    "- Starting cross-match between Candels catalogue and JADES catalogue"
   ]
  },
  {
   "cell_type": "markdown",
   "id": "9e8a5648",
   "metadata": {},
   "source": [
    "# Week 3 (06-11-23 to 12-11-23)"
   ]
  },
  {
   "cell_type": "markdown",
   "id": "3d6ecf4a",
   "metadata": {},
   "source": [
    "## Monday 6-11-23:\n",
    "\n",
    "- Continuing cross-match between Candels and JADES\n",
    "- Checking the coordinate systems used by both catalogues (do they match? JADES: ICRS, CANDELS:)\n",
    "- Using data from MAST Portal for JADES GOODS-S field\n",
    "- Uploading all files and folders to GitHub\n",
    "\n",
    "## Tuesday 7-11-23:\n",
    "\n",
    "- Meeting with Supervisors\n",
    "    - No need to cross-match between catalogues because JADES has information on redshifts (extension 9 of header). Will be using EAZY_z_a for redshift (photometric z at minimum chi-square value). More information on extensions: https://archive.stsci.edu/hlsps/jades/hlsp_jades_jwst_nircam_goods-s-deep_photometry_v2.0_catalog-ext-readme.pdf\n",
    "    - Extension 3 (size/half-light radius) may also be useful for future scripts.\n",
    "    - Tasks for the week:\n",
    "        - Histogram of galaxies with z>1\n",
    "        - Selection of galaxies in a smaller redshift interval (proposed interval: 3<z<4) for bar detection\n",
    "        - Representation of some of these galaxies in different filters\n",
    "        \n",
    "## Friday 8-11-23:\n",
    "- New document: barred_gal_detection.ipynb (cross_match.ipynb gets discarded).\n",
    "- Histograms on the galaxy sample for galaxies with z>1 (first hist) and 4<z<5 (second hist)\n",
    "- Representation of a galaxy in different filters"
   ]
  },
  {
   "cell_type": "markdown",
   "id": "f53ba8d7",
   "metadata": {},
   "source": [
    "# Week 4 (13-11-23 to 19-11-23)"
   ]
  },
  {
   "cell_type": "markdown",
   "id": "620c2871",
   "metadata": {},
   "source": [
    "## Monday 13-11-23:\n",
    "\n",
    "- Representing images in WCS coordinates. Matplotlib doesn't work with Astropy units and using degrees as units in images isn't feasible (too messy), so I'll be using APLpy.\n",
    "\n",
    "## Sunday 19-11-23:\n",
    "\n",
    "- Downloading APLpy and WCSaxes into tfm environment. Adapting all packages to this (downgrading python to version 3.6 and changing some codes)."
   ]
  },
  {
   "cell_type": "markdown",
   "id": "46848261",
   "metadata": {},
   "source": [
    "# Week 5 (20-11-23 to 26-11-23)"
   ]
  },
  {
   "cell_type": "markdown",
   "id": "a7822695",
   "metadata": {},
   "source": [
    "## Monday 20-11-23:\n",
    "\n",
    "- Representing images using APLpy and trying to obtain something pretty.\n",
    "\n",
    "## Tuesday 21-11-23:\n",
    "\n",
    "- Reading paper on barred spiral galaxy at z=3\n",
    "\n",
    "## Wednesday 22-11-23:\n",
    "\n",
    "- Making script prettier\n",
    "- Implementing minimum chi-square estimation for redshift to reduce data sample\n",
    "- Representing data in three filters using APLpy"
   ]
  },
  {
   "cell_type": "code",
   "execution_count": null,
   "id": "f6ffe1f6",
   "metadata": {},
   "outputs": [],
   "source": []
  }
 ],
 "metadata": {
  "kernelspec": {
   "display_name": "Python 3",
   "language": "python",
   "name": "python3"
  },
  "language_info": {
   "codemirror_mode": {
    "name": "ipython",
    "version": 3
   },
   "file_extension": ".py",
   "mimetype": "text/x-python",
   "name": "python",
   "nbconvert_exporter": "python",
   "pygments_lexer": "ipython3",
   "version": "3.6.13"
  }
 },
 "nbformat": 4,
 "nbformat_minor": 5
}
