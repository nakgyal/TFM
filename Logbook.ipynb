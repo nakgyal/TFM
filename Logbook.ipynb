{
 "cells": [
  {
   "cell_type": "markdown",
   "id": "223559c0",
   "metadata": {
    "jp-MarkdownHeadingCollapsed": true,
    "tags": []
   },
   "source": [
    "# Week 1 (23-10-23 to 29-10-23)"
   ]
  },
  {
   "cell_type": "markdown",
   "id": "d26e4d31-e3a1-4c5a-80d1-1f35d01f695d",
   "metadata": {},
   "source": [
    "- Setting up python, conda (miniconda), git (+ packages)\n",
    "- Installing DS9, Zotero\n",
    "- Course on version control with git: https://swcarpentry.github.io/git-novice/index.html\n",
    "- Checking up JADES website: https://archive.stsci.edu/hlsp/jades#section-963ad401-54a7-4433-b308-9c9a70210272\n",
    "- Reading papers on JADES dataset (on Zotero under JADES_dataset) and looking for barred galaxies (on Zotero under barred_galaxies)"
   ]
  },
  {
   "cell_type": "markdown",
   "id": "49c14343",
   "metadata": {
    "jp-MarkdownHeadingCollapsed": true
   },
   "source": [
    "# Week 2 (30-10-23 to 05-11-23)"
   ]
  },
  {
   "cell_type": "markdown",
   "id": "2f79ad6e-5dbc-4b66-a0a7-1d42f4f53207",
   "metadata": {},
   "source": [
    "- Reading papers on JADES dataset (on Zotero under JADES_dataset) and looking for barred galaxies (on Zotero under barred_galaxies)\n",
    "- Downloading CANDELS and JADES data on GOODS-S field\n",
    "  - Other fields?\n",
    "  - JADES photometry catalogue V2 DOESN'T WORK\n",
    "- Starting cross-match between Candels catalogue and JADES catalogue"
   ]
  },
  {
   "cell_type": "markdown",
   "id": "c35955c3",
   "metadata": {
    "jp-MarkdownHeadingCollapsed": true
   },
   "source": [
    "# Week 3 (06-11-23 to 12-11-23)"
   ]
  },
  {
   "cell_type": "markdown",
   "id": "0e83b566",
   "metadata": {},
   "source": [
    "## Monday 6-11-23:\n",
    "\n",
    "- Continuing cross-match between Candels and JADES\n",
    "- Checking the coordinate systems used by both catalogues (do they match? JADES: ICRS, CANDELS:)\n",
    "- Using data from MAST Portal for JADES GOODS-S field\n",
    "- Uploading all files and folders to GitHub\n",
    "\n",
    "## Tuesday 7-11-23:\n",
    "\n",
    "- Meeting with Supervisors\n",
    "    - No need to cross-match between catalogues because JADES has information on redshifts (extension 9 of header). Will be using EAZY_z_a for redshift (photometric z at minimum chi-square value). More information on extensions: https://archive.stsci.edu/hlsps/jades/hlsp_jades_jwst_nircam_goods-s-deep_photometry_v2.0_catalog-ext-readme.pdf\n",
    "    - Extension 3 (size/half-light radius) may also be useful for future scripts.\n",
    "    - Tasks for the week:\n",
    "        - Histogram of galaxies with z>1\n",
    "        - Selection of galaxies in a smaller redshift interval (proposed interval: 3<z<4) for bar detection\n",
    "        - Representation of some of these galaxies in different filters\n",
    "        \n",
    "## Friday 8-11-23:\n",
    "- New document: barred_gal_detection.ipynb (cross_match.ipynb gets discarded).\n",
    "- Histograms on the galaxy sample for galaxies with z>1 (first hist) and 4<z<5 (second hist)\n",
    "- Representation of a galaxy in different filters"
   ]
  },
  {
   "cell_type": "markdown",
   "id": "d6c3b4e0",
   "metadata": {
    "jp-MarkdownHeadingCollapsed": true
   },
   "source": [
    "# Week 4 (13-11-23 to 19-11-23)"
   ]
  },
  {
   "cell_type": "markdown",
   "id": "5aeeede3",
   "metadata": {},
   "source": [
    "## Monday 13-11-23:\n",
    "\n",
    "- Representing images in WCS coordinates. Matplotlib doesn't work with Astropy units and using degrees as units in images isn't feasible (too messy), so I'll be using APLpy.\n",
    "\n",
    "## Sunday 19-11-23:\n",
    "\n",
    "- Downloading APLpy and WCSaxes into tfm environment. Adapting all packages to this (downgrading python to version 3.6 and changing some codes)."
   ]
  },
  {
   "cell_type": "markdown",
   "id": "2195de66",
   "metadata": {
    "jp-MarkdownHeadingCollapsed": true
   },
   "source": [
    "# Week 5 (20-11-23 to 26-11-23)"
   ]
  },
  {
   "cell_type": "markdown",
   "id": "2ad88698",
   "metadata": {},
   "source": [
    "## Monday 20-11-23:\n",
    "\n",
    "- Representing images using APLpy and trying to obtain something pretty.\n",
    "\n",
    "## Tuesday 21-11-23:\n",
    "\n",
    "- Reading paper on barred spiral galaxy at z=3\n",
    "\n",
    "## Wednesday 22-11-23:\n",
    "\n",
    "- Making script prettier\n",
    "- Implementing minimum chi-square estimation for redshift to reduce data sample\n",
    "- Representing data in three filters using APLpy\n",
    "\n",
    "## Thursday 23-11-23:\n",
    "\n",
    "- Meeting with supervisors. Tasks:\n",
    "    - Make a cut in magnitudes (<25mag).\n",
    "    - Make scatter plot on redshift vs mag vs effective radius\n",
    "    - Start morphology detection with photutils\n",
    "\n",
    "## Saturday 25-11-23:\n",
    "\n",
    "- Starting scatter plots"
   ]
  },
  {
   "cell_type": "markdown",
   "id": "4817b37f-cdca-4277-a117-c0010e4073c9",
   "metadata": {
    "jp-MarkdownHeadingCollapsed": true
   },
   "source": [
    "# Week 6 (27-11-23 to 3-12-23)"
   ]
  },
  {
   "cell_type": "markdown",
   "id": "71b51160-c8e6-448f-9254-8ece414c782a",
   "metadata": {},
   "source": [
    "## Monday 27-11-23:\n",
    "\n",
    "- Finishing data sample selection (new jupyter notebook: data_sample.ipynb). Files:\n",
    "    - comparision_z_mag_re.pdf --> scatter plots on redshift vs mag vs effective radius (3 plots per filter)\n",
    "    - comparision_z_mag_re_2.pdf --> scatter plots on redshift vs mag, with colorbar on effective radius (2 plots per filter)\n",
    "    - data_sample.csv --> data sample in table format (with units) to be used in other notebooks\n",
    "- Sending results to supervisors. Tasks:\n",
    "    - Obtain the same plots for a sample with 2<z<4\n",
    "    - Implement errors in the plots\n",
    "\n",
    "## Sunday 3-12-23:\n",
    "\n",
    "- Obtaining the same plots for a sample with 2<z<4\n",
    "- Implementing errors in the plots (mag error bars are barely visible, redshift error bars are too big)"
   ]
  },
  {
   "cell_type": "markdown",
   "id": "d343a998-7653-4892-bc78-5936a68bc938",
   "metadata": {
    "jp-MarkdownHeadingCollapsed": true
   },
   "source": [
    "# Week 7 (4-12-23 to 10-12-23)"
   ]
  },
  {
   "cell_type": "markdown",
   "id": "27e83d67-8855-4410-992a-ba10d3df7ac0",
   "metadata": {},
   "source": [
    "## Monday 4-12-23:\n",
    "\n",
    "- Reading papers on calculating photometric redshift and the associated errors (on Zotero under tag: photometric_redshift_determination)\n",
    "\n",
    "## Tuesday 5-12-23:\n",
    "\n",
    "- Meeting with supervisors:\n",
    "    - Correcting errorbars for redshift\n",
    "    - Tasks:\n",
    "        - Some errorbars are negative; find which ones, how many there are and flag them --> why is it happening?\n",
    "        - Luca will send me a code to make images of galaxies\n",
    "        - Make images and print them with data using pdfpages (Cristina will send me her code; if not, I can change scale to log or asinh to visualize the images):\n",
    "            1. 4x6 galaxies per page\n",
    "            2. parameters in upper left corner: redshift (with errors as indexes) and effective radius\n",
    "            3. parameters in lower left corner: band (F200W/F444W)\n",
    "            4. above plot: ID of galaxy\n",
    "            5. first print all galaxies with F200W, then with F400W\n",
    "            6. sorting by redshift using command sort(z)\n",
    "            7. sample size: first with redshifts between 3 and 4, then with redshifts between 2 and 5 (after checking with supervisors)\n",
    "    - Future plans:\n",
    "        - Make a cut in effective radius if necessary\n",
    "        - Make visual classification (restricted or public?)\n",
    "- Finding negative errorbars and flagging them\n",
    "    - For sample with redshift between 3 and 4: 3 galaxies flagged\n",
    "    - For sample with redshift between 2 and 4: 10 galaxies flagged\n",
    "\n",
    "## Thursday 7-12-23:\n",
    "\n",
    "- Changing negative errorbars in redshifts --> why is it happening?\n",
    "\n",
    "## Friday 8-12-23:\n",
    "- Making cutouts of all galaxies in data sample using Luca's program make_postage_sample.py. Problem: not all galaxies in the list are available in the data release. "
   ]
  },
  {
   "cell_type": "markdown",
   "id": "3f4f8ce8-5bf5-4e40-b160-2eccff36764a",
   "metadata": {
    "jp-MarkdownHeadingCollapsed": true
   },
   "source": [
    "# Week 8 (11-12-23 to 17-12-23)"
   ]
  },
  {
   "cell_type": "markdown",
   "id": "5dfc5526-3dd9-44e3-8c29-7d35535383cb",
   "metadata": {},
   "source": [
    "## Monday 11-12-23:\n",
    "\n",
    "- Trying to solve the problem of the data sample (mosaics in filters F200W and F444W) not having images for certain coordinates of galaxies. The photometric catalogue has data from JADES and JEMS surveys, maybe that's the problem?\n",
    "- Making a cut in the data sample (modifying data_sample.ipynb) to include galaxies only in JADES.\n",
    "- Print cutouts using PDFpages package --> results in gal_cutouts_F200W.pdf and gal_cutouts_F444W.pdf\n",
    "\n",
    "## Thursday 14-12-23:\n",
    "\n",
    "- Meeting with supervisors. Data sample is correct, the problem is that the mosaics I had were version 1.0 instead of 2.0. Tasks:\n",
    "    - Download mosaics F200W and F444W v2.0\n",
    "    - Print images with PDFpages of all galaxies in data sample (should be 110 in total)."
   ]
  },
  {
   "cell_type": "markdown",
   "id": "f79c4e46-eff4-4e01-87de-0286ffc11987",
   "metadata": {
    "jp-MarkdownHeadingCollapsed": true
   },
   "source": [
    "# Week 9 (18-12-23 to 24-12-23)"
   ]
  },
  {
   "cell_type": "markdown",
   "id": "15179ec2-e932-4070-9ec5-e64b2e603119",
   "metadata": {
    "jp-MarkdownHeadingCollapsed": true
   },
   "source": [
    "## Monday 18-12-23:\n",
    "\n",
    "- Dowloading mosaics F200W and F444W v2.0.\n",
    "\n",
    "## Tuesday 19-12-23:\n",
    "\n",
    "- Printing all 110 galaxies in both filters using PDFpages (2 documents, one for each filter).\n",
    "\n",
    "## Wednesday 20-12-23:\n",
    "\n",
    "- Meeting with supervisors:\n",
    "    - Visual classification of galaxies: selecting sample of galaxies that could be barred. Galaxy ID list:\n",
    "210885\n",
    "155468\n",
    "171816\n",
    "203899\n",
    "183012\n",
    "175485\n",
    "210751\n",
    "57280\n",
    "203821\n",
    "187340\n",
    "192481\n",
    "82863\n",
    "182126\n",
    "    - Not resolved (print it in other bands): 197911\n",
    "    - Tasks:\n",
    "        - Get cutouts in all bands and uploading them to the cloud.\n",
    "        - Make one PDF document per galaxy with one cut per filter band.\n",
    "        - Make a txt file with: ID, RA, DEC, z (and uploading it to the cloud).\n",
    "        - Look for spectroscopic redshifts for this galaxy sample.\n",
    "        - Separate more the text in the cuts.\n",
    "        - Start isophotal analysis by following: https://photutils.readthedocs.io/en/stable/isophote.html"
   ]
  },
  {
   "cell_type": "markdown",
   "id": "e7fa3f81-eb93-47ed-9a2e-4bb852bd2406",
   "metadata": {
    "jp-MarkdownHeadingCollapsed": true
   },
   "source": [
    "# Week 10 (25-12-23 to 31-12-23)"
   ]
  },
  {
   "cell_type": "markdown",
   "id": "2d171416-af32-455a-853f-d10a5535819c",
   "metadata": {},
   "source": [
    "## Tuesday 26-12-23:\n",
    "\n",
    "- Ordering cutouts of galaxies by redshift and separating more the text in the cuts.\n",
    "- Checking for spectroscopic redshifts for the selected galaxies (there are none).\n",
    "- Starting morphological analysis using isophotes: new Jupyter Notebook (isophotal_analysis.ipynb)\n",
    "\n",
    "## Wednesday 27-12-23:\n",
    "\n",
    "- Morphological analysis using isophotes\n",
    "\n",
    "## Thursday 28-12-23:\n",
    "\n",
    "- Morphological analysis using isophotes"
   ]
  },
  {
   "cell_type": "markdown",
   "id": "3024a503-2cbd-49a4-9ee2-167fad54f9fc",
   "metadata": {
    "jp-MarkdownHeadingCollapsed": true
   },
   "source": [
    "# Week 11 (01-01-2024 to 07-01-2024)"
   ]
  },
  {
   "cell_type": "markdown",
   "id": "72f478b0-e761-46ba-8fa3-36cd5b638b08",
   "metadata": {},
   "source": [
    "- Downloading mosaics v2.0 for all filters.\n",
    "- Making cutouts for all 14 galaxies for the 7 different filters.\n",
    "- Morphological analysis using isophotes"
   ]
  },
  {
   "cell_type": "markdown",
   "id": "46e320be-7431-4d6f-bb18-0fa4f9f645e6",
   "metadata": {
    "jp-MarkdownHeadingCollapsed": true
   },
   "source": [
    "# Week 12 (08-01-2024 to 14-01-2024)"
   ]
  },
  {
   "cell_type": "markdown",
   "id": "816ee096-c284-4a3f-bf66-10f2d12894fd",
   "metadata": {},
   "source": [
    "## Monday 08-01-2024:\n",
    "\n",
    "- Morphological analysis using isophotes\n",
    "\n",
    "\n",
    "## Thursday 11-01-2024:\n",
    "\n",
    "- Morphological analysis using isophotes\n",
    "- Meeting. Tasks:\n",
    "  - First guess on the center of the ellipses will be done with F444W filter by fitting the ellipses and keeping the center free (fix_center=False).  \n",
    "  - We discard ID 197911 because it's not resolved for bands > F200W\n",
    "  - Change convergence criteria for the isophotes measured with fit_image (parameters: conver low, maxgerr high)\n",
    "  - Limit analysis with maxsma (or mask parts of the image if necessary), limit is given by zone where green changes to blue (viridis cmap)\n",
    "  - For sma in plots: change axis from arcsec to pix\n",
    "  - Give two colors for sma, one for bar and another for disk+arms\n",
    "  - We are searching for: peaking ellipticity (>0.25) with constant PA"
   ]
  },
  {
   "cell_type": "markdown",
   "id": "33ae64d4-ade9-4d41-ae00-04cfd0f3b279",
   "metadata": {
    "jp-MarkdownHeadingCollapsed": true
   },
   "source": [
    "# Week 13 (15-01-24 to 21-01-24):"
   ]
  },
  {
   "cell_type": "markdown",
   "id": "dafc268a-9f0f-4ce8-a188-81a31409664d",
   "metadata": {},
   "source": [
    "## Monday 15-01-24:\n",
    "\n",
    "- Working with isophotal_analysis.ipynb:\n",
    "  - Removing ID 197911 because it's not resolved\n",
    " \n",
    "## Wednesday 17-01-24:\n",
    "\n",
    "- Working with isophotal_analysis.ipynb\n",
    "\n",
    "## Thursday 18-01-24:\n",
    "\n",
    "- Continuing with isophotal analysis\n",
    "- Meeting:\n",
    "  - look closely at ID 155468 (asymetries)\n",
    "  - recalculate center guess for galaxy with lower maxsma\n",
    "  - elipticity and PA graphs: horizontal line for elip=0.25\n",
    "  - make visual classification in next months "
   ]
  },
  {
   "cell_type": "markdown",
   "id": "786f9edd-4048-480b-a935-568c555b70aa",
   "metadata": {},
   "source": [
    "# Week 14 (22-01-24 to 28-01-24):"
   ]
  },
  {
   "cell_type": "markdown",
   "id": "f842eccf-9fbd-4722-a027-565749af6163",
   "metadata": {},
   "source": [
    "## Monday 22-01-24:\n",
    "\n",
    "- Continuing with isophotal analysis\n",
    "\n",
    "## Wednesday 24-01-24:\n",
    "\n",
    "- Meeting. Tasks:\n",
    "  \n",
    "    - Isophotes:\n",
    "      - color palette: seismic (zero is white, better to analyze residuals and deviations from mean)\n",
    "      - for the model, minsma=0.5 (but when plotting graphs for PA and ellipticity, keep minsma as mininum given by PSF in each filter)\n",
    "      - change geometry initial guess for the ellipse (different for each filter)\n",
    "      - for data that doesn't converge (stop_code>2), color points in dark grey (for galaxy 192481 for example)\n",
    "      - step=0.5 for all galaxies\n",
    "      - different colors for filters (navy/dodgerblue, lightcoral/firebrick) instead of different markers --> navy/firebrick for F444W, red colors for bar and blue colors for arms+disk\n",
    "      - the change from bar to disk is done by analyzing where ellipticity starts being constant in filter F200W (because it's more resolved)\n",
    "      - draw an x (red?) in the center of the first two plots to mark the center of the guess\n",
    "      - individual comments on galaxy fits:\n",
    "        - 57280: repeat code with center determined by F200W for isophotes in that filter and compare with center determined by F444W for isophotes in F200W; if nothing changes, flag the central data and comment that it's not reliable; increase maxsma\n",
    "        - 203821: increase maxsma, next time we'll mask right part of the image, y axis values mix up between the two graphs\n",
    "        - 203899: very similar to 57280, increase maxsma, recalculate center for F200W\n",
    "        - 210885: ok\n",
    "        - 155468: change initial guess for F444W, change center guess \"by hand\" (one pixel to the right, only x axis) for BOTH filters\n",
    "        - 182126: increase maxsma and change limit between bar and disk\n",
    "\n",
    "       \n",
    "    - Visual classification of galaxies:\n",
    "      - prepare excel document\n",
    "      - first row: galID, 6 questions:\n",
    "          - 1: is it elliptical?\n",
    "          - 2: is it a disk?\n",
    "          - 3: is it irregular?\n",
    "          - 4: is it (un)resolved?\n",
    "          - 5: does it have a bar?\n",
    "          - 6: is the morphology different between both bands?\n",
    "      - first column: IDs for the 110 galaxies\n",
    "      - rest of document: all 0\n",
    "      - rules for filling the document: 0=NO, 1=YES\n",
    "      - to train the visual classification: generate 20/30 cutouts of random galaxies with redshift between 1 and 2\n",
    "      \n",
    "\n",
    "    - For next time: keep analyzing galaxies starting with ID 171816\n",
    " \n",
    "## Thursday 25-01-24:\n",
    "\n",
    "- Working with galaxy 192481 (first galaxy), changing aspect of graph and isophotal analysis\n",
    "\n",
    "## Saturday 27-01-24:\n",
    "\n",
    "- Working with galaxy 192481 (first galaxy), trying to discover problem with fit in central part of the galaxy (not solved)."
   ]
  },
  {
   "cell_type": "markdown",
   "id": "f59d41c5-efbe-4041-87bf-5d981e593b9a",
   "metadata": {},
   "source": [
    "# Week 15 (29-01-24 to 04-02-24):"
   ]
  },
  {
   "cell_type": "markdown",
   "id": "f0f4b4fa-4aca-4238-bc1c-12f3f78cace2",
   "metadata": {},
   "source": [
    "## Monday 29-01-24:\n",
    "\n",
    "- Working with galaxy 192481, the center is not guessed correctly but even if I try to correct it the fit isn't done properly for the centre of the galaxy (stop_code=5) or it isn't done at all for filter F200W.\n",
    "\n",
    "## Thursday 01-02-24:\n",
    "\n",
    "- Creating excel for visual classification of galaxies, with IDs and 6 questions\n",
    "- Creating sample to train for visual classification of galaxies"
   ]
  }
 ],
 "metadata": {
  "kernelspec": {
   "display_name": "Python 3 (ipykernel)",
   "language": "python",
   "name": "python3"
  },
  "language_info": {
   "codemirror_mode": {
    "name": "ipython",
    "version": 3
   },
   "file_extension": ".py",
   "mimetype": "text/x-python",
   "name": "python",
   "nbconvert_exporter": "python",
   "pygments_lexer": "ipython3",
   "version": "3.11.6"
  }
 },
 "nbformat": 4,
 "nbformat_minor": 5
}
