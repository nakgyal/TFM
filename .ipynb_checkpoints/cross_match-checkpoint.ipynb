{
 "cells": [
  {
   "cell_type": "code",
   "execution_count": 1,
   "id": "5d0f13e8-1406-44a3-a731-d5f597fd083a",
   "metadata": {},
   "outputs": [],
   "source": [
    "from astropy.io import ascii\n",
    "from astropy.table import Table\n",
    "from astropy.io import fits"
   ]
  },
  {
   "cell_type": "code",
   "execution_count": 2,
   "id": "845b2137-8996-4f3a-9d4e-29aedc4d239c",
   "metadata": {
    "tags": []
   },
   "outputs": [],
   "source": [
    "#reading data file:\n",
    "data_candels=ascii.read('~/TFM/observations/hlsp_candels_hst_wfc3_goodss_multi_v2_redshift-cat.txt') "
   ]
  },
  {
   "cell_type": "code",
   "execution_count": 3,
   "id": "aa6deba9-2617-4ecf-801a-7acaf8e38744",
   "metadata": {
    "tags": []
   },
   "outputs": [],
   "source": [
    "num=[]\n",
    "z=[]\n",
    "ra=[]\n",
    "dec=[]\n",
    "\n",
    "#selecting galaxies with a redshift>1:\n",
    "for i in range(len(data_candels)):\n",
    "    if data_candels['z_best'][i]>1:\n",
    "        num.append(data_candels['ID'][i])\n",
    "        z.append(data_candels['z_best'][i])\n",
    "        ra.append(data_candels['RA'][i])\n",
    "        dec.append(data_candels['DEC'][i])\n",
    "\n",
    "#creating a new table with the relevant information:        \n",
    "table_candels=Table()\n",
    "table_candels['ID']=num\n",
    "table_candels['RA']=ra\n",
    "table_candels['DEC']=dec\n",
    "table_candels['z']=z"
   ]
  },
  {
   "cell_type": "code",
   "execution_count": 4,
   "id": "ba8b2cd9-3503-442c-985e-fa0d193fe822",
   "metadata": {
    "tags": []
   },
   "outputs": [],
   "source": [
    "#loading JADES data:\n",
    "data_jades=f'~/TFM/observations/hlsp_jades_jwst_nircam_goods-s-deep_photometry_v2.0_catalog.fits'\n",
    "with fits.open(data_jades) as hdul:\n",
    "    header=hdul[9].header\n",
    "    data=hdul[9].data\n",
    "    header_coord=hdul[2].header\n",
    "    data_coord=hdul[2].data"
   ]
  },
  {
   "cell_type": "code",
   "execution_count": null,
   "id": "850a94f8-58a5-4912-a32c-96fff1e5f0d9",
   "metadata": {},
   "outputs": [],
   "source": []
  }
 ],
 "metadata": {
  "kernelspec": {
   "display_name": "Python 3 (ipykernel)",
   "language": "python",
   "name": "python3"
  },
  "language_info": {
   "codemirror_mode": {
    "name": "ipython",
    "version": 3
   },
   "file_extension": ".py",
   "mimetype": "text/x-python",
   "name": "python",
   "nbconvert_exporter": "python",
   "pygments_lexer": "ipython3",
   "version": "3.11.5"
  }
 },
 "nbformat": 4,
 "nbformat_minor": 5
}
